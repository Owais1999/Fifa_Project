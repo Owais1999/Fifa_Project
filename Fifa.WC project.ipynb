{
 "cells": [
  {
   "cell_type": "markdown",
   "id": "e9eb9ebc",
   "metadata": {},
   "source": [
    "### First we import all the necessary commands that will be necessary for us in the project ahead"
   ]
  },
  {
   "cell_type": "code",
   "execution_count": 1,
   "id": "805c71e8",
   "metadata": {},
   "outputs": [],
   "source": [
    "import pandas as pd\n",
    "import numpy as np \n",
    "from matplotlib import pyplot as plt\n",
    "import seaborn as sns\n",
    "import warnings\n",
    "warnings.filterwarnings(\"ignore\")"
   ]
  },
  {
   "cell_type": "code",
   "execution_count": 36,
   "id": "6375be20",
   "metadata": {},
   "outputs": [],
   "source": [
    "df = pd.read_csv(\"FIFA_WC.csv\")\n",
    "\n",
    "#here we print the csv file to get the data"
   ]
  },
  {
   "cell_type": "code",
   "execution_count": 3,
   "id": "f6bf9352",
   "metadata": {},
   "outputs": [
    {
     "data": {
      "text/html": [
       "<div>\n",
       "<style scoped>\n",
       "    .dataframe tbody tr th:only-of-type {\n",
       "        vertical-align: middle;\n",
       "    }\n",
       "\n",
       "    .dataframe tbody tr th {\n",
       "        vertical-align: top;\n",
       "    }\n",
       "\n",
       "    .dataframe thead th {\n",
       "        text-align: right;\n",
       "    }\n",
       "</style>\n",
       "<table border=\"1\" class=\"dataframe\">\n",
       "  <thead>\n",
       "    <tr style=\"text-align: right;\">\n",
       "      <th></th>\n",
       "      <th>Year</th>\n",
       "      <th>Host</th>\n",
       "      <th>Champion</th>\n",
       "      <th>Runner Up</th>\n",
       "      <th>Third Place</th>\n",
       "      <th>Teams</th>\n",
       "      <th>Matches Played</th>\n",
       "      <th>Goals Scored</th>\n",
       "      <th>Avg Goals Per Game</th>\n",
       "    </tr>\n",
       "  </thead>\n",
       "  <tbody>\n",
       "    <tr>\n",
       "      <th>0</th>\n",
       "      <td>2018</td>\n",
       "      <td>Russia</td>\n",
       "      <td>France</td>\n",
       "      <td>Croatia</td>\n",
       "      <td>Belgium</td>\n",
       "      <td>32</td>\n",
       "      <td>64</td>\n",
       "      <td>169</td>\n",
       "      <td>2.6</td>\n",
       "    </tr>\n",
       "    <tr>\n",
       "      <th>1</th>\n",
       "      <td>2014</td>\n",
       "      <td>Brazil</td>\n",
       "      <td>Germany</td>\n",
       "      <td>Argentina</td>\n",
       "      <td>Netherlands</td>\n",
       "      <td>32</td>\n",
       "      <td>64</td>\n",
       "      <td>171</td>\n",
       "      <td>2.7</td>\n",
       "    </tr>\n",
       "    <tr>\n",
       "      <th>2</th>\n",
       "      <td>2010</td>\n",
       "      <td>South Africa</td>\n",
       "      <td>Spain</td>\n",
       "      <td>Netherlands</td>\n",
       "      <td>Germany</td>\n",
       "      <td>32</td>\n",
       "      <td>64</td>\n",
       "      <td>145</td>\n",
       "      <td>2.3</td>\n",
       "    </tr>\n",
       "    <tr>\n",
       "      <th>3</th>\n",
       "      <td>2006</td>\n",
       "      <td>Germany</td>\n",
       "      <td>Italy</td>\n",
       "      <td>France</td>\n",
       "      <td>Germany</td>\n",
       "      <td>32</td>\n",
       "      <td>64</td>\n",
       "      <td>147</td>\n",
       "      <td>2.3</td>\n",
       "    </tr>\n",
       "    <tr>\n",
       "      <th>4</th>\n",
       "      <td>2002</td>\n",
       "      <td>South Korea, Japan</td>\n",
       "      <td>Brazil</td>\n",
       "      <td>Germany</td>\n",
       "      <td>Turkey</td>\n",
       "      <td>32</td>\n",
       "      <td>64</td>\n",
       "      <td>161</td>\n",
       "      <td>2.5</td>\n",
       "    </tr>\n",
       "    <tr>\n",
       "      <th>5</th>\n",
       "      <td>1998</td>\n",
       "      <td>France</td>\n",
       "      <td>France</td>\n",
       "      <td>Brazil</td>\n",
       "      <td>Croatia</td>\n",
       "      <td>32</td>\n",
       "      <td>64</td>\n",
       "      <td>171</td>\n",
       "      <td>2.7</td>\n",
       "    </tr>\n",
       "    <tr>\n",
       "      <th>6</th>\n",
       "      <td>1994</td>\n",
       "      <td>United States</td>\n",
       "      <td>Brazil</td>\n",
       "      <td>Italy</td>\n",
       "      <td>Sweden</td>\n",
       "      <td>24</td>\n",
       "      <td>52</td>\n",
       "      <td>141</td>\n",
       "      <td>2.7</td>\n",
       "    </tr>\n",
       "    <tr>\n",
       "      <th>7</th>\n",
       "      <td>1990</td>\n",
       "      <td>Italy</td>\n",
       "      <td>West Germany</td>\n",
       "      <td>Argentina</td>\n",
       "      <td>Italy</td>\n",
       "      <td>24</td>\n",
       "      <td>52</td>\n",
       "      <td>115</td>\n",
       "      <td>2.2</td>\n",
       "    </tr>\n",
       "    <tr>\n",
       "      <th>8</th>\n",
       "      <td>1986</td>\n",
       "      <td>Mexico</td>\n",
       "      <td>Argentina</td>\n",
       "      <td>West Germany</td>\n",
       "      <td>France</td>\n",
       "      <td>24</td>\n",
       "      <td>52</td>\n",
       "      <td>132</td>\n",
       "      <td>2.5</td>\n",
       "    </tr>\n",
       "    <tr>\n",
       "      <th>9</th>\n",
       "      <td>1982</td>\n",
       "      <td>Spain</td>\n",
       "      <td>Italy</td>\n",
       "      <td>West Germany</td>\n",
       "      <td>Poland</td>\n",
       "      <td>24</td>\n",
       "      <td>52</td>\n",
       "      <td>146</td>\n",
       "      <td>2.8</td>\n",
       "    </tr>\n",
       "    <tr>\n",
       "      <th>10</th>\n",
       "      <td>1978</td>\n",
       "      <td>Argentina</td>\n",
       "      <td>Argentina</td>\n",
       "      <td>Netherlands</td>\n",
       "      <td>Brazil</td>\n",
       "      <td>16</td>\n",
       "      <td>38</td>\n",
       "      <td>102</td>\n",
       "      <td>2.7</td>\n",
       "    </tr>\n",
       "    <tr>\n",
       "      <th>11</th>\n",
       "      <td>1974</td>\n",
       "      <td>West Germany</td>\n",
       "      <td>West Germany</td>\n",
       "      <td>Netherlands</td>\n",
       "      <td>Poland</td>\n",
       "      <td>16</td>\n",
       "      <td>38</td>\n",
       "      <td>97</td>\n",
       "      <td>2.6</td>\n",
       "    </tr>\n",
       "    <tr>\n",
       "      <th>12</th>\n",
       "      <td>1970</td>\n",
       "      <td>Mexico</td>\n",
       "      <td>Brazil</td>\n",
       "      <td>Italy</td>\n",
       "      <td>West Germany</td>\n",
       "      <td>16</td>\n",
       "      <td>32</td>\n",
       "      <td>95</td>\n",
       "      <td>3.0</td>\n",
       "    </tr>\n",
       "    <tr>\n",
       "      <th>13</th>\n",
       "      <td>1966</td>\n",
       "      <td>England</td>\n",
       "      <td>England</td>\n",
       "      <td>West Germany</td>\n",
       "      <td>Portugal</td>\n",
       "      <td>16</td>\n",
       "      <td>32</td>\n",
       "      <td>89</td>\n",
       "      <td>2.8</td>\n",
       "    </tr>\n",
       "    <tr>\n",
       "      <th>14</th>\n",
       "      <td>1962</td>\n",
       "      <td>Chile</td>\n",
       "      <td>Brazil</td>\n",
       "      <td>Czechoslovakia</td>\n",
       "      <td>Chile</td>\n",
       "      <td>16</td>\n",
       "      <td>32</td>\n",
       "      <td>89</td>\n",
       "      <td>2.8</td>\n",
       "    </tr>\n",
       "    <tr>\n",
       "      <th>15</th>\n",
       "      <td>1958</td>\n",
       "      <td>Sweden</td>\n",
       "      <td>Brazil</td>\n",
       "      <td>Sweden</td>\n",
       "      <td>France</td>\n",
       "      <td>16</td>\n",
       "      <td>35</td>\n",
       "      <td>126</td>\n",
       "      <td>3.6</td>\n",
       "    </tr>\n",
       "    <tr>\n",
       "      <th>16</th>\n",
       "      <td>1954</td>\n",
       "      <td>Switzerland</td>\n",
       "      <td>West Germany</td>\n",
       "      <td>Hungary</td>\n",
       "      <td>Austria</td>\n",
       "      <td>16</td>\n",
       "      <td>26</td>\n",
       "      <td>140</td>\n",
       "      <td>5.4</td>\n",
       "    </tr>\n",
       "    <tr>\n",
       "      <th>17</th>\n",
       "      <td>1950</td>\n",
       "      <td>Brazil</td>\n",
       "      <td>Uruguay</td>\n",
       "      <td>Brazil</td>\n",
       "      <td>Sweden</td>\n",
       "      <td>13</td>\n",
       "      <td>22</td>\n",
       "      <td>88</td>\n",
       "      <td>4.0</td>\n",
       "    </tr>\n",
       "    <tr>\n",
       "      <th>18</th>\n",
       "      <td>1938</td>\n",
       "      <td>France</td>\n",
       "      <td>Italy</td>\n",
       "      <td>Hungary</td>\n",
       "      <td>Brazil</td>\n",
       "      <td>15</td>\n",
       "      <td>18</td>\n",
       "      <td>84</td>\n",
       "      <td>4.7</td>\n",
       "    </tr>\n",
       "    <tr>\n",
       "      <th>19</th>\n",
       "      <td>1934</td>\n",
       "      <td>Italy</td>\n",
       "      <td>Italy</td>\n",
       "      <td>Czechoslovakia</td>\n",
       "      <td>Germany</td>\n",
       "      <td>16</td>\n",
       "      <td>17</td>\n",
       "      <td>70</td>\n",
       "      <td>4.1</td>\n",
       "    </tr>\n",
       "    <tr>\n",
       "      <th>20</th>\n",
       "      <td>1930</td>\n",
       "      <td>Uruguay</td>\n",
       "      <td>Uruguay</td>\n",
       "      <td>Argentina</td>\n",
       "      <td>United States</td>\n",
       "      <td>13</td>\n",
       "      <td>16</td>\n",
       "      <td>70</td>\n",
       "      <td>3.6</td>\n",
       "    </tr>\n",
       "  </tbody>\n",
       "</table>\n",
       "</div>"
      ],
      "text/plain": [
       "    Year                Host      Champion       Runner Up    Third Place  \\\n",
       "0   2018              Russia        France         Croatia        Belgium   \n",
       "1   2014              Brazil       Germany       Argentina    Netherlands   \n",
       "2   2010        South Africa         Spain     Netherlands        Germany   \n",
       "3   2006             Germany         Italy          France        Germany   \n",
       "4   2002  South Korea, Japan        Brazil         Germany         Turkey   \n",
       "5   1998              France        France          Brazil        Croatia   \n",
       "6   1994       United States        Brazil           Italy         Sweden   \n",
       "7   1990               Italy  West Germany       Argentina          Italy   \n",
       "8   1986              Mexico     Argentina    West Germany         France   \n",
       "9   1982               Spain         Italy    West Germany         Poland   \n",
       "10  1978           Argentina     Argentina     Netherlands         Brazil   \n",
       "11  1974        West Germany  West Germany     Netherlands         Poland   \n",
       "12  1970              Mexico        Brazil           Italy   West Germany   \n",
       "13  1966             England       England    West Germany       Portugal   \n",
       "14  1962               Chile        Brazil  Czechoslovakia          Chile   \n",
       "15  1958              Sweden        Brazil          Sweden         France   \n",
       "16  1954         Switzerland  West Germany         Hungary        Austria   \n",
       "17  1950              Brazil       Uruguay          Brazil         Sweden   \n",
       "18  1938              France         Italy         Hungary         Brazil   \n",
       "19  1934               Italy         Italy  Czechoslovakia        Germany   \n",
       "20  1930             Uruguay       Uruguay       Argentina  United States   \n",
       "\n",
       "    Teams  Matches Played  Goals Scored  Avg Goals Per Game  \n",
       "0      32              64           169                 2.6  \n",
       "1      32              64           171                 2.7  \n",
       "2      32              64           145                 2.3  \n",
       "3      32              64           147                 2.3  \n",
       "4      32              64           161                 2.5  \n",
       "5      32              64           171                 2.7  \n",
       "6      24              52           141                 2.7  \n",
       "7      24              52           115                 2.2  \n",
       "8      24              52           132                 2.5  \n",
       "9      24              52           146                 2.8  \n",
       "10     16              38           102                 2.7  \n",
       "11     16              38            97                 2.6  \n",
       "12     16              32            95                 3.0  \n",
       "13     16              32            89                 2.8  \n",
       "14     16              32            89                 2.8  \n",
       "15     16              35           126                 3.6  \n",
       "16     16              26           140                 5.4  \n",
       "17     13              22            88                 4.0  \n",
       "18     15              18            84                 4.7  \n",
       "19     16              17            70                 4.1  \n",
       "20     13              16            70                 3.6  "
      ]
     },
     "execution_count": 3,
     "metadata": {},
     "output_type": "execute_result"
    }
   ],
   "source": [
    "df"
   ]
  },
  {
   "cell_type": "code",
   "execution_count": 4,
   "id": "47e96dc3",
   "metadata": {},
   "outputs": [
    {
     "name": "stdout",
     "output_type": "stream",
     "text": [
      "<class 'pandas.core.frame.DataFrame'>\n",
      "RangeIndex: 21 entries, 0 to 20\n",
      "Data columns (total 9 columns):\n",
      " #   Column              Non-Null Count  Dtype  \n",
      "---  ------              --------------  -----  \n",
      " 0   Year                21 non-null     int64  \n",
      " 1   Host                21 non-null     object \n",
      " 2   Champion            21 non-null     object \n",
      " 3   Runner Up           21 non-null     object \n",
      " 4   Third Place         21 non-null     object \n",
      " 5   Teams               21 non-null     int64  \n",
      " 6   Matches Played      21 non-null     int64  \n",
      " 7   Goals Scored        21 non-null     int64  \n",
      " 8   Avg Goals Per Game  21 non-null     float64\n",
      "dtypes: float64(1), int64(4), object(4)\n",
      "memory usage: 1.6+ KB\n"
     ]
    }
   ],
   "source": [
    "df.info()\n",
    "\n",
    "#here we get the information that is available in the table."
   ]
  },
  {
   "cell_type": "code",
   "execution_count": 5,
   "id": "d304598b",
   "metadata": {},
   "outputs": [],
   "source": [
    "df[\"Year\"]=df[\"Year\"]\n",
    "df[\"Teams\"]=df[\"Teams\"]\n",
    "df[\"Matches Played\"]=df[\"Matches Played\"] \n",
    "df[\"Goals Scored\"]=df[\"Goals Scored\"] \n",
    "df[\"Avg Goals Per Game\"]=df[\"Avg Goals Per Game\"]"
   ]
  },
  {
   "cell_type": "code",
   "execution_count": 6,
   "id": "a7aaec79",
   "metadata": {},
   "outputs": [
    {
     "name": "stdout",
     "output_type": "stream",
     "text": [
      "<class 'pandas.core.frame.DataFrame'>\n",
      "RangeIndex: 21 entries, 0 to 20\n",
      "Data columns (total 9 columns):\n",
      " #   Column              Non-Null Count  Dtype  \n",
      "---  ------              --------------  -----  \n",
      " 0   Year                21 non-null     int64  \n",
      " 1   Host                21 non-null     object \n",
      " 2   Champion            21 non-null     object \n",
      " 3   Runner Up           21 non-null     object \n",
      " 4   Third Place         21 non-null     object \n",
      " 5   Teams               21 non-null     int64  \n",
      " 6   Matches Played      21 non-null     int64  \n",
      " 7   Goals Scored        21 non-null     int64  \n",
      " 8   Avg Goals Per Game  21 non-null     float64\n",
      "dtypes: float64(1), int64(4), object(4)\n",
      "memory usage: 1.6+ KB\n"
     ]
    }
   ],
   "source": [
    "df.info()"
   ]
  },
  {
   "cell_type": "markdown",
   "id": "afa1eb22",
   "metadata": {},
   "source": [
    "# 1. Which is the Best Team in the World"
   ]
  },
  {
   "cell_type": "code",
   "execution_count": 7,
   "id": "feccc70d",
   "metadata": {},
   "outputs": [
    {
     "data": {
      "text/plain": [
       "Brazil          5\n",
       "Italy           4\n",
       "West Germany    3\n",
       "Argentina       2\n",
       "Uruguay         2\n",
       "France          2\n",
       "Spain           1\n",
       "England         1\n",
       "Germany         1\n",
       "Name: Champion, dtype: int64"
      ]
     },
     "execution_count": 7,
     "metadata": {},
     "output_type": "execute_result"
    }
   ],
   "source": [
    "df.Champion.value_counts()\n",
    "\n",
    "#here we get the information of which team is leading the scoreboard"
   ]
  },
  {
   "cell_type": "markdown",
   "id": "c12db82d",
   "metadata": {},
   "source": [
    "#### Brazil has won the most World Cup Finals, hence Brazil is the best team"
   ]
  },
  {
   "cell_type": "code",
   "execution_count": 8,
   "id": "ffc0dc1e",
   "metadata": {},
   "outputs": [
    {
     "data": {
      "text/plain": [
       "Germany    1\n",
       "Italy      1\n",
       "Brazil     1\n",
       "France     1\n",
       "Spain      1\n",
       "Name: Champion, dtype: int64"
      ]
     },
     "execution_count": 8,
     "metadata": {},
     "output_type": "execute_result"
    }
   ],
   "source": [
    "df[df[\"Year\"]>2000][\"Champion\"].value_counts()\n",
    "#here we find the data of which team won the championship after 2000"
   ]
  },
  {
   "cell_type": "markdown",
   "id": "f667db68",
   "metadata": {},
   "source": [
    "#### France, Germany, Italy, Spain, Brazil has won the Championship after 2000"
   ]
  },
  {
   "cell_type": "code",
   "execution_count": 9,
   "id": "a954d4d1",
   "metadata": {},
   "outputs": [
    {
     "data": {
      "image/png": "[encoded data removed]",
      "text/plain": [
       "<Figure size 432x288 with 1 Axes>"
      ]
     },
     "metadata": {
      "needs_background": "light"
     },
     "output_type": "display_data"
    }
   ],
   "source": [
    "df[\"Champion\"].value_counts().plot(kind=\"bar\")\n",
    "plt.title(\"WC Champions\")\n",
    "plt.xlabel(\"No. of Champions\")\n",
    "plt.ylabel(\"Country\")\n",
    "plt.show()\n",
    "\n",
    "#this is a bar graph that shows the number of championship that are won by the countries "
   ]
  },
  {
   "cell_type": "markdown",
   "id": "088f1685",
   "metadata": {},
   "source": [
    "#  2. Numbers of times a Host Country has won the championship"
   ]
  },
  {
   "cell_type": "code",
   "execution_count": 10,
   "id": "b42374e2",
   "metadata": {},
   "outputs": [
    {
     "data": {
      "text/plain": [
       "<AxesSubplot:>"
      ]
     },
     "execution_count": 10,
     "metadata": {},
     "output_type": "execute_result"
    },
    {
     "data": {
      "image/png": "[encoded data removed]",
      "text/plain": [
       "<Figure size 432x288 with 2 Axes>"
      ]
     },
     "metadata": {
      "needs_background": "light"
     },
     "output_type": "display_data"
    }
   ],
   "source": [
    "sns.heatmap(df.corr(), annot=(True), cmap=\"Reds\")\n",
    "#by using seaborn we get a little information about matches played, avg goal per game, matches played and etc. "
   ]
  },
  {
   "cell_type": "code",
   "execution_count": 11,
   "id": "21b6d22a",
   "metadata": {},
   "outputs": [
    {
     "data": {
      "image/png": "[encoded data removed]",
      "text/plain": [
       "<Figure size 360x360 with 1 Axes>"
      ]
     },
     "metadata": {
      "needs_background": "light"
     },
     "output_type": "display_data"
    }
   ],
   "source": [
    "plt.figure(figsize=(5,5))\n",
    "sns.scatterplot(data=df, x=\"Host\", y=\"Champion\")\n",
    "plt.grid()"
   ]
  },
  {
   "cell_type": "code",
   "execution_count": 12,
   "id": "ec2b52e0",
   "metadata": {
    "scrolled": true
   },
   "outputs": [
    {
     "data": {
      "image/png": "[encoded data removed]",
      "text/plain": [
       "<Figure size 360x360 with 1 Axes>"
      ]
     },
     "metadata": {
      "needs_background": "light"
     },
     "output_type": "display_data"
    }
   ],
   "source": [
    "plt.figure(figsize=(5,5))\n",
    "sns.scatterplot(data=df, x=\"Year\", y=\"Host\", hue=\"Champion\")\n",
    "plt.grid()"
   ]
  },
  {
   "cell_type": "code",
   "execution_count": 13,
   "id": "415571fb",
   "metadata": {},
   "outputs": [
    {
     "data": {
      "text/html": [
       "<div>\n",
       "<style scoped>\n",
       "    .dataframe tbody tr th:only-of-type {\n",
       "        vertical-align: middle;\n",
       "    }\n",
       "\n",
       "    .dataframe tbody tr th {\n",
       "        vertical-align: top;\n",
       "    }\n",
       "\n",
       "    .dataframe thead th {\n",
       "        text-align: right;\n",
       "    }\n",
       "</style>\n",
       "<table border=\"1\" class=\"dataframe\">\n",
       "  <thead>\n",
       "    <tr style=\"text-align: right;\">\n",
       "      <th></th>\n",
       "      <th>Year</th>\n",
       "      <th>Host</th>\n",
       "      <th>Champion</th>\n",
       "      <th>Runner Up</th>\n",
       "      <th>Third Place</th>\n",
       "      <th>Teams</th>\n",
       "      <th>Matches Played</th>\n",
       "      <th>Goals Scored</th>\n",
       "      <th>Avg Goals Per Game</th>\n",
       "    </tr>\n",
       "  </thead>\n",
       "  <tbody>\n",
       "    <tr>\n",
       "      <th>5</th>\n",
       "      <td>1998</td>\n",
       "      <td>France</td>\n",
       "      <td>France</td>\n",
       "      <td>Brazil</td>\n",
       "      <td>Croatia</td>\n",
       "      <td>32</td>\n",
       "      <td>64</td>\n",
       "      <td>171</td>\n",
       "      <td>2.7</td>\n",
       "    </tr>\n",
       "    <tr>\n",
       "      <th>10</th>\n",
       "      <td>1978</td>\n",
       "      <td>Argentina</td>\n",
       "      <td>Argentina</td>\n",
       "      <td>Netherlands</td>\n",
       "      <td>Brazil</td>\n",
       "      <td>16</td>\n",
       "      <td>38</td>\n",
       "      <td>102</td>\n",
       "      <td>2.7</td>\n",
       "    </tr>\n",
       "    <tr>\n",
       "      <th>11</th>\n",
       "      <td>1974</td>\n",
       "      <td>West Germany</td>\n",
       "      <td>West Germany</td>\n",
       "      <td>Netherlands</td>\n",
       "      <td>Poland</td>\n",
       "      <td>16</td>\n",
       "      <td>38</td>\n",
       "      <td>97</td>\n",
       "      <td>2.6</td>\n",
       "    </tr>\n",
       "    <tr>\n",
       "      <th>13</th>\n",
       "      <td>1966</td>\n",
       "      <td>England</td>\n",
       "      <td>England</td>\n",
       "      <td>West Germany</td>\n",
       "      <td>Portugal</td>\n",
       "      <td>16</td>\n",
       "      <td>32</td>\n",
       "      <td>89</td>\n",
       "      <td>2.8</td>\n",
       "    </tr>\n",
       "    <tr>\n",
       "      <th>19</th>\n",
       "      <td>1934</td>\n",
       "      <td>Italy</td>\n",
       "      <td>Italy</td>\n",
       "      <td>Czechoslovakia</td>\n",
       "      <td>Germany</td>\n",
       "      <td>16</td>\n",
       "      <td>17</td>\n",
       "      <td>70</td>\n",
       "      <td>4.1</td>\n",
       "    </tr>\n",
       "    <tr>\n",
       "      <th>20</th>\n",
       "      <td>1930</td>\n",
       "      <td>Uruguay</td>\n",
       "      <td>Uruguay</td>\n",
       "      <td>Argentina</td>\n",
       "      <td>United States</td>\n",
       "      <td>13</td>\n",
       "      <td>16</td>\n",
       "      <td>70</td>\n",
       "      <td>3.6</td>\n",
       "    </tr>\n",
       "  </tbody>\n",
       "</table>\n",
       "</div>"
      ],
      "text/plain": [
       "    Year          Host      Champion       Runner Up    Third Place  Teams  \\\n",
       "5   1998        France        France          Brazil        Croatia     32   \n",
       "10  1978     Argentina     Argentina     Netherlands         Brazil     16   \n",
       "11  1974  West Germany  West Germany     Netherlands         Poland     16   \n",
       "13  1966       England       England    West Germany       Portugal     16   \n",
       "19  1934         Italy         Italy  Czechoslovakia        Germany     16   \n",
       "20  1930       Uruguay       Uruguay       Argentina  United States     13   \n",
       "\n",
       "    Matches Played  Goals Scored  Avg Goals Per Game  \n",
       "5               64           171                 2.7  \n",
       "10              38           102                 2.7  \n",
       "11              38            97                 2.6  \n",
       "13              32            89                 2.8  \n",
       "19              17            70                 4.1  \n",
       "20              16            70                 3.6  "
      ]
     },
     "execution_count": 13,
     "metadata": {},
     "output_type": "execute_result"
    }
   ],
   "source": [
    "df[df['Host']==df['Champion']]"
   ]
  },
  {
   "cell_type": "markdown",
   "id": "7f544e98",
   "metadata": {},
   "source": [
    "#### there are 6 countries that won the championship while hosting the worldcup "
   ]
  },
  {
   "cell_type": "markdown",
   "id": "1649c377",
   "metadata": {},
   "source": [
    "# 3. Which was the best team of 90's era"
   ]
  },
  {
   "cell_type": "code",
   "execution_count": 14,
   "id": "2e85b2e7",
   "metadata": {},
   "outputs": [
    {
     "data": {
      "text/plain": [
       "Brazil          4\n",
       "Italy           3\n",
       "West Germany    3\n",
       "Uruguay         2\n",
       "Argentina       2\n",
       "France          1\n",
       "England         1\n",
       "Name: Champion, dtype: int64"
      ]
     },
     "execution_count": 14,
     "metadata": {},
     "output_type": "execute_result"
    }
   ],
   "source": [
    "df[df['Year']<2000]['Champion'].value_counts()"
   ]
  },
  {
   "cell_type": "code",
   "execution_count": 15,
   "id": "29aafa8c",
   "metadata": {},
   "outputs": [
    {
     "data": {
      "image/png": "[encoded data removed]",
      "text/plain": [
       "<Figure size 432x288 with 1 Axes>"
      ]
     },
     "metadata": {
      "needs_background": "light"
     },
     "output_type": "display_data"
    }
   ],
   "source": [
    "df[df['Year']<2000]['Champion'].value_counts().plot(kind=\"bar\") \n",
    "plt.title(\"WC Champions in 90's era \") \n",
    "plt.ylabel(\"No. of Times Champion\") \n",
    "plt.xlabel(\"Country\")\n",
    "plt.show()"
   ]
  },
  {
   "cell_type": "markdown",
   "id": "81b1e900",
   "metadata": {},
   "source": [
    "\n",
    "### the graph shows that \"Brazil\" has won the most of the championships in 90's Era"
   ]
  },
  {
   "cell_type": "markdown",
   "id": "63feeae8",
   "metadata": {},
   "source": [
    "# 4. Which Host Country holds the most number of World Cups"
   ]
  },
  {
   "cell_type": "code",
   "execution_count": 16,
   "id": "ae13d7c5",
   "metadata": {},
   "outputs": [
    {
     "data": {
      "text/plain": [
       "<bound method IndexOpsMixin.value_counts of 0                 Russia\n",
       "1                 Brazil\n",
       "2           South Africa\n",
       "3                Germany\n",
       "4     South Korea, Japan\n",
       "5                 France\n",
       "6          United States\n",
       "7                  Italy\n",
       "8                 Mexico\n",
       "9                  Spain\n",
       "10             Argentina\n",
       "11          West Germany\n",
       "12                Mexico\n",
       "13               England\n",
       "14                 Chile\n",
       "15                Sweden\n",
       "16           Switzerland\n",
       "17                Brazil\n",
       "18                France\n",
       "19                 Italy\n",
       "20               Uruguay\n",
       "Name: Host, dtype: object>"
      ]
     },
     "execution_count": 16,
     "metadata": {},
     "output_type": "execute_result"
    }
   ],
   "source": [
    "df[\"Host\"].value_counts"
   ]
  },
  {
   "cell_type": "code",
   "execution_count": 17,
   "id": "993027e2",
   "metadata": {},
   "outputs": [
    {
     "data": {
      "image/png": "[encoded data removed]",
      "text/plain": [
       "<Figure size 432x432 with 1 Axes>"
      ]
     },
     "metadata": {
      "needs_background": "light"
     },
     "output_type": "display_data"
    }
   ],
   "source": [
    "plt.figure(figsize=(6,6))\n",
    "sns.countplot(data=df,x=\"Host\")\n",
    "plt.title(\"Wc Host Countries\")\n",
    "plt.ylabel(\"No. Of Times Host\")\n",
    "plt.xticks(rotation=90)\n",
    "plt.show()"
   ]
  },
  {
   "cell_type": "markdown",
   "id": "9fe72fb2",
   "metadata": {},
   "source": [
    "#### Brazil, France, Italy & Mexico has hosted the the World Cup for the most of the time"
   ]
  },
  {
   "cell_type": "markdown",
   "id": "0cb1deb3",
   "metadata": {},
   "source": [
    "# 5. Number of Goals scored per year and the average of goal scored every match and if there is an increase or not"
   ]
  },
  {
   "cell_type": "code",
   "execution_count": 18,
   "id": "285b8f15",
   "metadata": {},
   "outputs": [
    {
     "data": {
      "image/png": "[encoded data removed]",
      "text/plain": [
       "<Figure size 432x288 with 1 Axes>"
      ]
     },
     "metadata": {
      "needs_background": "light"
     },
     "output_type": "display_data"
    }
   ],
   "source": [
    "plt.plot(df[\"Year\"],df[\"Goals Scored\"]) \n",
    "plt.title(\"World Cup Goals\") \n",
    "plt.xlabel(\"Year\") \n",
    "plt.ylabel(\"No. Of Goals Scored\") \n",
    "plt.grid(True)\n",
    "plt.show() "
   ]
  },
  {
   "cell_type": "code",
   "execution_count": 19,
   "id": "78e1512e",
   "metadata": {},
   "outputs": [
    {
     "data": {
      "image/png": "[encoded data removed]",
      "text/plain": [
       "<Figure size 432x288 with 1 Axes>"
      ]
     },
     "metadata": {
      "needs_background": "light"
     },
     "output_type": "display_data"
    }
   ],
   "source": [
    "plt.plot(df[\"Year\"],df[\"Avg Goals Per Game\"]) \n",
    "plt.title(\"WC Average Goals Per Game Per Year\") \n",
    "plt.xlabel(\"Year\") \n",
    "plt.ylabel(\"Average Goals Per Game\") \n",
    "plt.grid(True)\n",
    "plt.show() \n"
   ]
  },
  {
   "cell_type": "markdown",
   "id": "3f454508",
   "metadata": {},
   "source": [
    "#### the average of goals keep increasing"
   ]
  },
  {
   "cell_type": "markdown",
   "id": "49d4ff4a",
   "metadata": {},
   "source": [
    "# 6. Matches played per year "
   ]
  },
  {
   "cell_type": "code",
   "execution_count": 20,
   "id": "61a0baf6",
   "metadata": {},
   "outputs": [
    {
     "data": {
      "image/png": "[encoded data removed]",
      "text/plain": [
       "<Figure size 504x504 with 1 Axes>"
      ]
     },
     "metadata": {
      "needs_background": "light"
     },
     "output_type": "display_data"
    }
   ],
   "source": [
    "plt.figure(figsize=(7,7))\n",
    "sns.scatterplot(data=df, x=\"Year\", y=\"Goals Scored\", hue=\"Matches Played\")\n",
    "plt.title(\"Matches played per Year\")\n",
    "plt.ylim(50,200)\n",
    "plt.xlim(1928,2016)\n",
    "plt.grid(True)\n"
   ]
  },
  {
   "cell_type": "markdown",
   "id": "76cf3ccc",
   "metadata": {},
   "source": [
    "#### No. of Matches played per Year kept increasing year by year"
   ]
  },
  {
   "cell_type": "markdown",
   "id": "19e58cd3",
   "metadata": {},
   "source": [
    "#  7. Which Year did Germany won the World Cup"
   ]
  },
  {
   "cell_type": "code",
   "execution_count": 21,
   "id": "86e9288d",
   "metadata": {},
   "outputs": [
    {
     "data": {
      "text/plain": [
       "1    2014\n",
       "Name: Year, dtype: int64"
      ]
     },
     "execution_count": 21,
     "metadata": {},
     "output_type": "execute_result"
    }
   ],
   "source": [
    "df[df[\"Champion\"]==\"Germany\"][\"Year\"]"
   ]
  },
  {
   "cell_type": "markdown",
   "id": "adfad9f8",
   "metadata": {},
   "source": [
    "#### Germany won the World Cup only once and that is in the year 2014"
   ]
  },
  {
   "cell_type": "markdown",
   "id": "bcaf2c2a",
   "metadata": {},
   "source": [
    "#  8. Who was the First Winner of the World Cup"
   ]
  },
  {
   "cell_type": "code",
   "execution_count": 22,
   "id": "be0dd661",
   "metadata": {},
   "outputs": [
    {
     "data": {
      "text/plain": [
       "20    Uruguay\n",
       "Name: Champion, dtype: object"
      ]
     },
     "execution_count": 22,
     "metadata": {},
     "output_type": "execute_result"
    }
   ],
   "source": [
    "df[df[\"Year\"]==1930][\"Champion\"]"
   ]
  },
  {
   "cell_type": "markdown",
   "id": "0ee79780",
   "metadata": {},
   "source": [
    "#### Uruguay was the First Team that Won the World Cup"
   ]
  },
  {
   "cell_type": "markdown",
   "id": "b3ecea40",
   "metadata": {},
   "source": [
    " #  9. Which Year did Argentina, France and Spain won the World Cup"
   ]
  },
  {
   "cell_type": "code",
   "execution_count": 23,
   "id": "7ce0ab2a",
   "metadata": {},
   "outputs": [
    {
     "data": {
      "text/html": [
       "<div>\n",
       "<style scoped>\n",
       "    .dataframe tbody tr th:only-of-type {\n",
       "        vertical-align: middle;\n",
       "    }\n",
       "\n",
       "    .dataframe tbody tr th {\n",
       "        vertical-align: top;\n",
       "    }\n",
       "\n",
       "    .dataframe thead th {\n",
       "        text-align: right;\n",
       "    }\n",
       "</style>\n",
       "<table border=\"1\" class=\"dataframe\">\n",
       "  <thead>\n",
       "    <tr style=\"text-align: right;\">\n",
       "      <th></th>\n",
       "      <th>Year</th>\n",
       "      <th>Host</th>\n",
       "      <th>Champion</th>\n",
       "      <th>Runner Up</th>\n",
       "      <th>Third Place</th>\n",
       "      <th>Teams</th>\n",
       "      <th>Matches Played</th>\n",
       "      <th>Goals Scored</th>\n",
       "      <th>Avg Goals Per Game</th>\n",
       "    </tr>\n",
       "  </thead>\n",
       "  <tbody>\n",
       "    <tr>\n",
       "      <th>0</th>\n",
       "      <td>2018</td>\n",
       "      <td>Russia</td>\n",
       "      <td>France</td>\n",
       "      <td>Croatia</td>\n",
       "      <td>Belgium</td>\n",
       "      <td>32</td>\n",
       "      <td>64</td>\n",
       "      <td>169</td>\n",
       "      <td>2.6</td>\n",
       "    </tr>\n",
       "    <tr>\n",
       "      <th>2</th>\n",
       "      <td>2010</td>\n",
       "      <td>South Africa</td>\n",
       "      <td>Spain</td>\n",
       "      <td>Netherlands</td>\n",
       "      <td>Germany</td>\n",
       "      <td>32</td>\n",
       "      <td>64</td>\n",
       "      <td>145</td>\n",
       "      <td>2.3</td>\n",
       "    </tr>\n",
       "    <tr>\n",
       "      <th>5</th>\n",
       "      <td>1998</td>\n",
       "      <td>France</td>\n",
       "      <td>France</td>\n",
       "      <td>Brazil</td>\n",
       "      <td>Croatia</td>\n",
       "      <td>32</td>\n",
       "      <td>64</td>\n",
       "      <td>171</td>\n",
       "      <td>2.7</td>\n",
       "    </tr>\n",
       "    <tr>\n",
       "      <th>8</th>\n",
       "      <td>1986</td>\n",
       "      <td>Mexico</td>\n",
       "      <td>Argentina</td>\n",
       "      <td>West Germany</td>\n",
       "      <td>France</td>\n",
       "      <td>24</td>\n",
       "      <td>52</td>\n",
       "      <td>132</td>\n",
       "      <td>2.5</td>\n",
       "    </tr>\n",
       "    <tr>\n",
       "      <th>10</th>\n",
       "      <td>1978</td>\n",
       "      <td>Argentina</td>\n",
       "      <td>Argentina</td>\n",
       "      <td>Netherlands</td>\n",
       "      <td>Brazil</td>\n",
       "      <td>16</td>\n",
       "      <td>38</td>\n",
       "      <td>102</td>\n",
       "      <td>2.7</td>\n",
       "    </tr>\n",
       "  </tbody>\n",
       "</table>\n",
       "</div>"
      ],
      "text/plain": [
       "    Year          Host   Champion     Runner Up Third Place  Teams  \\\n",
       "0   2018        Russia     France       Croatia     Belgium     32   \n",
       "2   2010  South Africa      Spain   Netherlands     Germany     32   \n",
       "5   1998        France     France        Brazil     Croatia     32   \n",
       "8   1986        Mexico  Argentina  West Germany      France     24   \n",
       "10  1978     Argentina  Argentina   Netherlands      Brazil     16   \n",
       "\n",
       "    Matches Played  Goals Scored  Avg Goals Per Game  \n",
       "0               64           169                 2.6  \n",
       "2               64           145                 2.3  \n",
       "5               64           171                 2.7  \n",
       "8               52           132                 2.5  \n",
       "10              38           102                 2.7  "
      ]
     },
     "execution_count": 23,
     "metadata": {},
     "output_type": "execute_result"
    }
   ],
   "source": [
    " df[(df[\"Champion\"] == \"Argentina\") | (df[\"Champion\"] == \"France\") | (df[\"Champion\"] == \"Spain\") ] "
   ]
  },
  {
   "cell_type": "markdown",
   "id": "cc68f129",
   "metadata": {},
   "source": [
    "#### Argentina won the World Cup in th year (1986,1987) France won in the year(1998,2018) and Spain won in the year(2010)"
   ]
  },
  {
   "cell_type": "markdown",
   "id": "20b21951",
   "metadata": {},
   "source": [
    "#  10. Which year did Brazil and Germany were the Runner Ups"
   ]
  },
  {
   "cell_type": "code",
   "execution_count": 24,
   "id": "50bcbc69",
   "metadata": {},
   "outputs": [
    {
     "data": {
      "text/html": [
       "<div>\n",
       "<style scoped>\n",
       "    .dataframe tbody tr th:only-of-type {\n",
       "        vertical-align: middle;\n",
       "    }\n",
       "\n",
       "    .dataframe tbody tr th {\n",
       "        vertical-align: top;\n",
       "    }\n",
       "\n",
       "    .dataframe thead th {\n",
       "        text-align: right;\n",
       "    }\n",
       "</style>\n",
       "<table border=\"1\" class=\"dataframe\">\n",
       "  <thead>\n",
       "    <tr style=\"text-align: right;\">\n",
       "      <th></th>\n",
       "      <th>Year</th>\n",
       "      <th>Host</th>\n",
       "      <th>Champion</th>\n",
       "      <th>Runner Up</th>\n",
       "      <th>Third Place</th>\n",
       "      <th>Teams</th>\n",
       "      <th>Matches Played</th>\n",
       "      <th>Goals Scored</th>\n",
       "      <th>Avg Goals Per Game</th>\n",
       "    </tr>\n",
       "  </thead>\n",
       "  <tbody>\n",
       "    <tr>\n",
       "      <th>4</th>\n",
       "      <td>2002</td>\n",
       "      <td>South Korea, Japan</td>\n",
       "      <td>Brazil</td>\n",
       "      <td>Germany</td>\n",
       "      <td>Turkey</td>\n",
       "      <td>32</td>\n",
       "      <td>64</td>\n",
       "      <td>161</td>\n",
       "      <td>2.5</td>\n",
       "    </tr>\n",
       "    <tr>\n",
       "      <th>5</th>\n",
       "      <td>1998</td>\n",
       "      <td>France</td>\n",
       "      <td>France</td>\n",
       "      <td>Brazil</td>\n",
       "      <td>Croatia</td>\n",
       "      <td>32</td>\n",
       "      <td>64</td>\n",
       "      <td>171</td>\n",
       "      <td>2.7</td>\n",
       "    </tr>\n",
       "    <tr>\n",
       "      <th>17</th>\n",
       "      <td>1950</td>\n",
       "      <td>Brazil</td>\n",
       "      <td>Uruguay</td>\n",
       "      <td>Brazil</td>\n",
       "      <td>Sweden</td>\n",
       "      <td>13</td>\n",
       "      <td>22</td>\n",
       "      <td>88</td>\n",
       "      <td>4.0</td>\n",
       "    </tr>\n",
       "  </tbody>\n",
       "</table>\n",
       "</div>"
      ],
      "text/plain": [
       "    Year                Host Champion Runner Up Third Place  Teams  \\\n",
       "4   2002  South Korea, Japan   Brazil   Germany      Turkey     32   \n",
       "5   1998              France   France    Brazil     Croatia     32   \n",
       "17  1950              Brazil  Uruguay    Brazil      Sweden     13   \n",
       "\n",
       "    Matches Played  Goals Scored  Avg Goals Per Game  \n",
       "4               64           161                 2.5  \n",
       "5               64           171                 2.7  \n",
       "17              22            88                 4.0  "
      ]
     },
     "execution_count": 24,
     "metadata": {},
     "output_type": "execute_result"
    }
   ],
   "source": [
    "df[df[\"Runner Up\"].isin([\"Brazil\", \"Germany\"])]"
   ]
  },
  {
   "cell_type": "markdown",
   "id": "def33cb3",
   "metadata": {},
   "source": [
    "#### Brazil was the Runner Up in the year (1998,1950) and Germany was in the year (2002)"
   ]
  },
  {
   "cell_type": "markdown",
   "id": "07e72e8e",
   "metadata": {},
   "source": [
    "#  11. How many times a new Team won the World Cup"
   ]
  },
  {
   "cell_type": "code",
   "execution_count": 25,
   "id": "f64d3dcf",
   "metadata": {
    "scrolled": true
   },
   "outputs": [
    {
     "data": {
      "text/plain": [
       "9"
      ]
     },
     "execution_count": 25,
     "metadata": {},
     "output_type": "execute_result"
    }
   ],
   "source": [
    "df.Champion.nunique()"
   ]
  },
  {
   "cell_type": "markdown",
   "id": "d2ba3cd5",
   "metadata": {},
   "source": [
    "#### 9 times new team won the World Cup"
   ]
  },
  {
   "cell_type": "code",
   "execution_count": 26,
   "id": "e0f967c6",
   "metadata": {},
   "outputs": [
    {
     "data": {
      "text/plain": [
       "Brazil          5\n",
       "Italy           4\n",
       "West Germany    3\n",
       "Argentina       2\n",
       "Uruguay         2\n",
       "France          2\n",
       "Spain           1\n",
       "England         1\n",
       "Germany         1\n",
       "Name: Champion, dtype: int64"
      ]
     },
     "execution_count": 26,
     "metadata": {},
     "output_type": "execute_result"
    }
   ],
   "source": [
    "df[\"Champion\"].value_counts()"
   ]
  },
  {
   "cell_type": "code",
   "execution_count": 27,
   "id": "14ccad67",
   "metadata": {},
   "outputs": [
    {
     "data": {
      "text/plain": [
       "Netherlands       3\n",
       "Argentina         3\n",
       "West Germany      3\n",
       "Italy             2\n",
       "Brazil            2\n",
       "Hungary           2\n",
       "Czechoslovakia    2\n",
       "France            1\n",
       "Croatia           1\n",
       "Sweden            1\n",
       "Germany           1\n",
       "Name: Runner Up, dtype: int64"
      ]
     },
     "execution_count": 27,
     "metadata": {},
     "output_type": "execute_result"
    }
   ],
   "source": [
    "df[\"Runner Up\"].value_counts()"
   ]
  },
  {
   "cell_type": "code",
   "execution_count": 35,
   "id": "6f7ad748",
   "metadata": {},
   "outputs": [
    {
     "data": {
      "text/plain": [
       "71.42857142857143"
      ]
     },
     "execution_count": 35,
     "metadata": {},
     "output_type": "execute_result"
    }
   ],
   "source": [
    "#Brazil has won the World Cup for 5 Times\n",
    "#chances of Brazil Winning the World Cup are\n",
    "#total Number of apperance of this team in the World Cup Final is for 7 times\n",
    "chance = 5*100/7\n",
    "chance"
   ]
  },
  {
   "cell_type": "code",
   "execution_count": 30,
   "id": "57798744",
   "metadata": {},
   "outputs": [
    {
     "data": {
      "text/plain": [
       "66.66666666666667"
      ]
     },
     "execution_count": 30,
     "metadata": {},
     "output_type": "execute_result"
    }
   ],
   "source": [
    "#Italy has won the World Cup 4 times\n",
    "#total number of appearance of this team in the World Cup Finals is 6 times\n",
    "chances = 4*100/6\n",
    "chances"
   ]
  },
  {
   "cell_type": "code",
   "execution_count": 31,
   "id": "4d2121aa",
   "metadata": {},
   "outputs": [
    {
     "data": {
      "text/plain": [
       "30.0"
      ]
     },
     "execution_count": 31,
     "metadata": {},
     "output_type": "execute_result"
    }
   ],
   "source": [
    "# Only 6 times host wins the World Cup Final \n",
    "# Total No. of World Cup tournaments organized 21 times  \n",
    "chances2 = 6*100/20 \n",
    "chances2 "
   ]
  },
  {
   "cell_type": "markdown",
   "id": "a9bfae27",
   "metadata": {},
   "source": [
    "#  12. In which year did Sweden came in Third Place"
   ]
  },
  {
   "cell_type": "code",
   "execution_count": 32,
   "id": "92bf2ae6",
   "metadata": {},
   "outputs": [
    {
     "data": {
      "text/html": [
       "<div>\n",
       "<style scoped>\n",
       "    .dataframe tbody tr th:only-of-type {\n",
       "        vertical-align: middle;\n",
       "    }\n",
       "\n",
       "    .dataframe tbody tr th {\n",
       "        vertical-align: top;\n",
       "    }\n",
       "\n",
       "    .dataframe thead th {\n",
       "        text-align: right;\n",
       "    }\n",
       "</style>\n",
       "<table border=\"1\" class=\"dataframe\">\n",
       "  <thead>\n",
       "    <tr style=\"text-align: right;\">\n",
       "      <th></th>\n",
       "      <th>Year</th>\n",
       "      <th>Host</th>\n",
       "      <th>Champion</th>\n",
       "      <th>Runner Up</th>\n",
       "      <th>Third Place</th>\n",
       "      <th>Teams</th>\n",
       "      <th>Matches Played</th>\n",
       "      <th>Goals Scored</th>\n",
       "      <th>Avg Goals Per Game</th>\n",
       "    </tr>\n",
       "  </thead>\n",
       "  <tbody>\n",
       "    <tr>\n",
       "      <th>6</th>\n",
       "      <td>1994</td>\n",
       "      <td>United States</td>\n",
       "      <td>Brazil</td>\n",
       "      <td>Italy</td>\n",
       "      <td>Sweden</td>\n",
       "      <td>24</td>\n",
       "      <td>52</td>\n",
       "      <td>141</td>\n",
       "      <td>2.7</td>\n",
       "    </tr>\n",
       "    <tr>\n",
       "      <th>17</th>\n",
       "      <td>1950</td>\n",
       "      <td>Brazil</td>\n",
       "      <td>Uruguay</td>\n",
       "      <td>Brazil</td>\n",
       "      <td>Sweden</td>\n",
       "      <td>13</td>\n",
       "      <td>22</td>\n",
       "      <td>88</td>\n",
       "      <td>4.0</td>\n",
       "    </tr>\n",
       "  </tbody>\n",
       "</table>\n",
       "</div>"
      ],
      "text/plain": [
       "    Year           Host Champion Runner Up Third Place  Teams  Matches Played  \\\n",
       "6   1994  United States   Brazil     Italy      Sweden     24              52   \n",
       "17  1950         Brazil  Uruguay    Brazil      Sweden     13              22   \n",
       "\n",
       "    Goals Scored  Avg Goals Per Game  \n",
       "6            141                 2.7  \n",
       "17            88                 4.0  "
      ]
     },
     "execution_count": 32,
     "metadata": {},
     "output_type": "execute_result"
    }
   ],
   "source": [
    "df[df[\"Third Place\"].str.contains(\"Sweden\")]"
   ]
  },
  {
   "cell_type": "markdown",
   "id": "e65920b4",
   "metadata": {},
   "source": [
    "#### Sweden came in Third Place in the Year(1994,1950)"
   ]
  },
  {
   "cell_type": "markdown",
   "id": "be057d37",
   "metadata": {},
   "source": [
    "# 13. Maximum and Minimum Number of Goals Scored in every year"
   ]
  },
  {
   "cell_type": "code",
   "execution_count": 33,
   "id": "a60cdc9f",
   "metadata": {},
   "outputs": [
    {
     "data": {
      "text/plain": [
       "1    2014\n",
       "5    1998\n",
       "Name: Year, dtype: int64"
      ]
     },
     "execution_count": 33,
     "metadata": {},
     "output_type": "execute_result"
    }
   ],
   "source": [
    " df[df[\"Goals Scored\"]==df[\"Goals Scored\"].max()][\"Year\"] "
   ]
  },
  {
   "cell_type": "code",
   "execution_count": 34,
   "id": "4205036a",
   "metadata": {},
   "outputs": [
    {
     "data": {
      "text/plain": [
       "19    1934\n",
       "20    1930\n",
       "Name: Year, dtype: int64"
      ]
     },
     "execution_count": 34,
     "metadata": {},
     "output_type": "execute_result"
    }
   ],
   "source": [
    " df[df[\"Goals Scored\"]==df[\"Goals Scored\"].min()][\"Year\"] "
   ]
  },
  {
   "cell_type": "markdown",
   "id": "cf39075b",
   "metadata": {},
   "source": [
    "#### Maximum No. of Goals scored are in the year (1998,2014), Minimum No. of Goals Scored are in the year(1930,1934)"
   ]
  },
  {
   "cell_type": "markdown",
   "id": "5f8cc7da",
   "metadata": {},
   "source": [
    "# Conclusion\n",
    "1. Brazil has won the World Cup 5 times and 2 times Runner up also\n",
    "2. Chances of Brazil winning in the finals is 72%\n",
    "3. Italy has won the Championship 4 times and 2 times Runner Up\n",
    "4. Chances of Italy winning in the finals is 67%\n",
    "5. chances of Host Country winning the World Cup is 30%\n",
    "6. The First Team to ever Win the World Cup Finals was Uruguay\n",
    "7. the average No. of Goals keep increasing every year\n",
    "8. Brazil was the best Team of 90's Era\n",
    "9. Number of Matches played every year kept increasing\n",
    "10. In last 20 Years the New Teams are also winning the Championship so there is no particular team dominating\n",
    "11. 9 times New Teams won the Championship\n",
    " \n",
    "    \n",
    "    By the above Statements we can conclude that if Brazil comes in Finals thier winning chances are upto 72%\n",
    "    and of Italy the chances are 67%"
   ]
  },
  {
   "cell_type": "markdown",
   "id": "274580c6",
   "metadata": {},
   "source": [
    "# Result\n",
    "By my analysis i got the information that the goals scored in every year kept increasing.\n",
    "By this i also got to know that Team Brazil has Won the World Cup for 5 years.\n",
    "And also that Brazil has been the best team of 90's era.\n",
    "By this i found out the First ever Team to win the Fifa World Cup was Uruguay.\n",
    "By this data analysis i found out that 9 new teams won the World Cup.\n",
    "I found out how many matches have been played per year."
   ]
  },
  {
   "cell_type": "markdown",
   "id": "d7121248",
   "metadata": {},
   "source": [
    "# Thank You\n",
    "    "
   ]
  },
  {
   "cell_type": "code",
   "execution_count": null,
   "id": "fc9101c5",
   "metadata": {},
   "outputs": [],
   "source": []
  }
 ],
 "metadata": {
  "kernelspec": {
   "display_name": "Python 3",
   "language": "python",
   "name": "python3"
  },
  "language_info": {
   "codemirror_mode": {
    "name": "ipython",
    "version": 3
   },
   "file_extension": ".py",
   "mimetype": "text/x-python",
   "name": "python",
   "nbconvert_exporter": "python",
   "pygments_lexer": "ipython3",
   "version": "3.8.8"
  }
 },
 "nbformat": 4,
 "nbformat_minor": 5
}
